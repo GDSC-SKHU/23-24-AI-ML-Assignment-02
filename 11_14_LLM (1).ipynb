{
  "cells": [
    {
      "cell_type": "code",
      "execution_count": null,
      "metadata": {
        "colab": {
          "base_uri": "https://localhost:8080/"
        },
        "id": "kwULhLHxS-rf",
        "outputId": "95ce89b7-a5bf-4c81-b2da-ac1b2c1e8c42"
      },
      "outputs": [
        {
          "output_type": "stream",
          "name": "stdout",
          "text": [
            "Collecting gradientai\n",
            "  Downloading gradientai-1.2.0-py3-none-any.whl (166 kB)\n",
            "\u001b[2K     \u001b[90m━━━━━━━━━━━━━━━━━━━━━━━━━━━━━━━━━━━━━━━━\u001b[0m \u001b[32m166.3/166.3 kB\u001b[0m \u001b[31m4.3 MB/s\u001b[0m eta \u001b[36m0:00:00\u001b[0m\n",
            "\u001b[?25hCollecting aenum>=3.1.11 (from gradientai)\n",
            "  Downloading aenum-3.1.15-py3-none-any.whl (137 kB)\n",
            "\u001b[2K     \u001b[90m━━━━━━━━━━━━━━━━━━━━━━━━━━━━━━━━━━━━━━━━\u001b[0m \u001b[32m137.6/137.6 kB\u001b[0m \u001b[31m9.9 MB/s\u001b[0m eta \u001b[36m0:00:00\u001b[0m\n",
            "\u001b[?25hRequirement already satisfied: pydantic<2.0.0,>=1.10.5 in /usr/local/lib/python3.10/dist-packages (from gradientai) (1.10.13)\n",
            "Requirement already satisfied: python-dateutil>=2.8.2 in /usr/local/lib/python3.10/dist-packages (from gradientai) (2.8.2)\n",
            "Requirement already satisfied: urllib3>=1.25.3 in /usr/local/lib/python3.10/dist-packages (from gradientai) (2.0.7)\n",
            "Requirement already satisfied: typing-extensions>=4.2.0 in /usr/local/lib/python3.10/dist-packages (from pydantic<2.0.0,>=1.10.5->gradientai) (4.5.0)\n",
            "Requirement already satisfied: six>=1.5 in /usr/local/lib/python3.10/dist-packages (from python-dateutil>=2.8.2->gradientai) (1.16.0)\n",
            "Installing collected packages: aenum, gradientai\n",
            "Successfully installed aenum-3.1.15 gradientai-1.2.0\n"
          ]
        }
      ],
      "source": [
        "!pip install gradientai --upgrade"
      ]
    },
    {
      "cell_type": "code",
      "execution_count": null,
      "metadata": {
        "id": "69buZMDQUb6s"
      },
      "outputs": [],
      "source": [
        "import os\n",
        "\n",
        "os.environ['GRADIENT_ACCESS_TOKEN'] = 'oADgAvp6PI7GfUr1026rpEdfaQdXQykR'\n",
        "os.environ['GRADIENT_WORKSPACE_ID'] = '51593c19-5878-4df9-b85a-40b58f767f76_workspace'"
      ]
    },
    {
      "cell_type": "code",
      "execution_count": null,
      "metadata": {
        "id": "MS8AZ_g9WpyP"
      },
      "outputs": [],
      "source": []
    },
    {
      "cell_type": "code",
      "execution_count": null,
      "metadata": {
        "id": "nsAfyF2WWx-w"
      },
      "outputs": [],
      "source": []
    },
    {
      "cell_type": "code",
      "execution_count": null,
      "metadata": {
        "colab": {
          "base_uri": "https://localhost:8080/"
        },
        "id": "2rVS1iwXbK88",
        "outputId": "6f95e6b9-6812-499d-d41f-61ac9d873d04"
      },
      "outputs": [
        {
          "output_type": "stream",
          "name": "stdout",
          "text": [
            "Created model adapter with id 9e7548d3-37c8-4a07-8991-172c3baeca14_model_adapter\n",
            "Asking: ### Instruction: Who is Kim Gyu-been?  \n",
            "\n",
            "### Response:\n",
            "Generated (before fine-tune):  Kim Gyu-been is a South Korean figure skater. She is the 2021 Four Continents bronze medalist, the 2021 CS Finlandia Trophy champion, and a two-time (2019–20, 2020–21) South Korean national champion.\n",
            "Fine-tuning the model, iteration 1\n",
            "Fine-tuning the model, iteration 2\n",
            "Fine-tuning the model, iteration 3\n",
            "Fine-tuning the model, iteration 4\n",
            "Fine-tuning the model, iteration 5\n",
            "Fine-tuning the model, iteration 6\n",
            "Fine-tuning the model, iteration 7\n",
            "Fine-tuning the model, iteration 8\n",
            "Fine-tuning the model, iteration 9\n",
            "Fine-tuning the model, iteration 10\n",
            "Fine-tuning the model, iteration 11\n",
            "Fine-tuning the model, iteration 12\n",
            "Fine-tuning the model, iteration 13\n",
            "Fine-tuning the model, iteration 14\n",
            "Fine-tuning the model, iteration 15\n",
            "Fine-tuning the model, iteration 16\n",
            "Fine-tuning the model, iteration 17\n",
            "Fine-tuning the model, iteration 18\n",
            "Fine-tuning the model, iteration 19\n",
            "Fine-tuning the model, iteration 20\n",
            "Fine-tuning the model, iteration 21\n",
            "Fine-tuning the model, iteration 22\n",
            "Fine-tuning the model, iteration 23\n",
            "Fine-tuning the model, iteration 24\n",
            "Fine-tuning the model, iteration 25\n",
            "Fine-tuning the model, iteration 26\n",
            "Fine-tuning the model, iteration 27\n",
            "Fine-tuning the model, iteration 28\n",
            "Fine-tuning the model, iteration 29\n",
            "Fine-tuning the model, iteration 30\n",
            "Generated (after fine-tune):  Gyubeen Kim is a student at Sungkonghoe University and is currently majoring in Artificial Intelligence. He was born in Bucheon and is 23. His hobby is playing badminton because he was a badminton player in middle school. He is very outgoing so his friends are pretty much everywhere.\n"
          ]
        }
      ],
      "source": [
        "from gradientai import Gradient\n",
        "\n",
        "def main():\n",
        "  with Gradient() as gradient:\n",
        "      base_model = gradient.get_base_model(base_model_slug = \"nous-hermes2\")\n",
        "\n",
        "      new_model_adapter = base_model.create_model_adapter(\n",
        "          name=\"test model 3\"\n",
        "      )\n",
        "\n",
        "      print(f\"Created model adapter with id {new_model_adapter.id}\")\n",
        "      sample_query = \"### Instruction: Who is Kim Gyu-been?  \\n\\n### Response:\"\n",
        "      print(f\"Asking: {sample_query}\")\n",
        "\n",
        "      # before fine-tuning\n",
        "\n",
        "\n",
        "      completion = new_model_adapter.complete(query = sample_query, max_generated_token_count=150).generated_output\n",
        "      print(f\"Generated (before fine-tune): {completion}\")\n",
        "\n",
        "\n",
        "\n",
        "      samples = [\n",
        "      { \"inputs\": \"### Instruction: Who is Kim Gyu-been? \\n\\n### Response: Gyubeen Kim is a student at Sungkonghoe University and is currently majoring in Artificial Intelligence. He was born in Bucheon and is 23.\" },\n",
        "      { \"inputs\": \"### Instruction: What are Kim Gyu-been strength and weakness? \\n\\n### Response: His strengths are his heart and passion for not giving up. But His weakness is that he is very shy, so he doesn't talk much in the beginning.\" },\n",
        "      { \"inputs\": \"### Instruction: What are Kim Gyu-been hobbies? \\n\\n### Response: He likes badminton because he was a badminton player in middle school. He also likes bowling and escape rooms.\" },\n",
        "      { \"inputs\": \"### Instruction: What does Kim Gyu-been want to achieve? \\n\\n### Response: Gyubeen Kim wants to become an authority in the field of artificial intelligence.\" },\n",
        "      { \"inputs\": \"### Instruction: What is Kim Gyu-been life motto? \\n\\n### Response: The important thing is an unbreakable heart\" }\n",
        "  ]\n",
        "\n",
        "\n",
        "\n",
        "\n",
        "      num_epochs = 30\n",
        "      count = 0\n",
        "\n",
        "      while count < num_epochs:\n",
        "          print(f\"Fine-tuning the model, iteration {count + 1}\")\n",
        "          new_model_adapter.fine_tune(samples=samples)\n",
        "          count = count + 1\n",
        "\n",
        "\n",
        "\n",
        "      # after fine-tuning\n",
        "      completion = new_model_adapter.complete(query=sample_query, max_generated_token_count=80).generated_output\n",
        "      print(f\"Generated (after fine-tune): {completion}\")\n",
        "\n",
        "      new_model_adapter.delete()\n",
        "\n",
        "if __name__ == \"__main__\":\n",
        "    main()"
      ]
    },
    {
      "cell_type": "code",
      "execution_count": null,
      "metadata": {
        "id": "I1288nF1ZfXQ"
      },
      "outputs": [],
      "source": []
    }
  ],
  "metadata": {
    "colab": {
      "provenance": []
    },
    "kernelspec": {
      "display_name": "Python 3",
      "name": "python3"
    },
    "language_info": {
      "name": "python"
    }
  },
  "nbformat": 4,
  "nbformat_minor": 0
}